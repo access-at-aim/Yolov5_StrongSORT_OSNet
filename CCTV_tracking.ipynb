{
 "cells": [
  {
   "cell_type": "code",
   "execution_count": 1,
   "id": "76f0a6da-82f2-4e4f-9fd9-cea2cf1e75b7",
   "metadata": {
    "ExecuteTime": {
     "end_time": "2022-06-29T11:34:23.923052Z",
     "start_time": "2022-06-29T11:34:20.780943Z"
    }
   },
   "outputs": [
    {
     "name": "stderr",
     "output_type": "stream",
     "text": [
      "/home/ddailisan/.conda-envs/yolo/lib/python3.10/site-packages/tqdm/auto.py:22: TqdmWarning: IProgress not found. Please update jupyter and ipywidgets. See https://ipywidgets.readthedocs.io/en/stable/user_install.html\n",
      "  from .autonotebook import tqdm as notebook_tqdm\n",
      "/home/ddailisan/Yolov5_StrongSORT_OSNet/strong_sort/deep/reid/torchreid/metrics/rank.py:11: UserWarning: Cython evaluation (very fast so highly recommended) is unavailable, now use python evaluation.\n",
      "  warnings.warn(\n"
     ]
    }
   ],
   "source": [
    "%matplotlib inline\n",
    "import plot_init as pu\n",
    "import track\n",
    "import logging\n",
    "import numpy as np\n",
    "import matplotlib.pyplot as plt\n",
    "logger = logging.getLogger()\n",
    "logger.setLevel(30)"
   ]
  },
  {
   "cell_type": "code",
   "execution_count": 2,
   "id": "b5e25991-15b2-4fed-8527-488e10df6a10",
   "metadata": {
    "ExecuteTime": {
     "end_time": "2022-06-29T11:34:23.932532Z",
     "start_time": "2022-06-29T11:34:23.926786Z"
    }
   },
   "outputs": [],
   "source": [
    "source = \"20220613T155958.mp4\"\n",
    "# source = \"20220613T165013.mp4\"\n",
    "\n",
    "source_root = source.split('/')[-1].split('.mp4')[0]\n",
    "weights = \"yolov5/weights/crowdhuman_yolov5m.pt\"\n",
    "classes = 0\n",
    "save_txt = True\n",
    "save_vid = True\n",
    "hide_conf = True\n",
    "project='runs/track'\n",
    "name = f'baguio_{source}'\n",
    "line_thickness = 1\n",
    "exist_ok = True\n",
    "every_frame = 5\n",
    "# track.run(\n",
    "#         source=source,\n",
    "#         yolo_weights=weights,  # model.pt path(s),\n",
    "#         save_txt=save_txt,  # save results to *.txt\n",
    "#         save_vid=save_vid,  # save confidences in --save-txt labels\n",
    "#         classes=classes,  # filter by class: --class 0, or --class 0 2 3\n",
    "#         line_thickness=line_thickness, \n",
    "#         name=name,\n",
    "#         project=project,  # save results to project/name\n",
    "#         exist_ok=exist_ok,\n",
    "#         hide_conf=hide_conf,  # hide confidences\n",
    "#         half=False,  # use FP16 half-precision inference\n",
    "#         every_frame=every_frame, # skip frames for faster processing\n",
    "# )"
   ]
  },
  {
   "cell_type": "code",
   "execution_count": 3,
   "id": "4a350638-486e-4e86-bf53-946497465dc8",
   "metadata": {
    "ExecuteTime": {
     "end_time": "2022-06-29T11:34:24.026827Z",
     "start_time": "2022-06-29T11:34:23.934940Z"
    }
   },
   "outputs": [],
   "source": [
    "import pandas as pd\n",
    "\n",
    "\n",
    "outputfile = project + '/' + name + '/tracks/' + source_root + '.txt'\n",
    "col_names = ['frame_number', 'object_id', 'bbox_left', 'bbox_top', 'bbox_w', 'bbox_h', '1', '2', '3', 'class']\n",
    "df = pd.read_csv(outputfile, delimiter=' ', names=col_names, index_col=False)"
   ]
  },
  {
   "cell_type": "code",
   "execution_count": 4,
   "id": "ba1e0672-0ba2-4a99-a14b-fde5e4730197",
   "metadata": {
    "ExecuteTime": {
     "end_time": "2022-06-29T11:34:24.035980Z",
     "start_time": "2022-06-29T11:34:24.031788Z"
    }
   },
   "outputs": [],
   "source": [
    "start_time = np.datetime64('2022-06-13T15:59:58.000')\n",
    "# start_time = np.datetime64('2022-06-13T16:50:13.000')"
   ]
  },
  {
   "cell_type": "code",
   "execution_count": 5,
   "id": "091e7a25-ab75-4873-86cc-3a3e7b47f5a4",
   "metadata": {
    "ExecuteTime": {
     "end_time": "2022-06-29T11:34:24.042970Z",
     "start_time": "2022-06-29T11:34:24.038169Z"
    }
   },
   "outputs": [],
   "source": [
    "fps = 30\n",
    "dt = 1/fps"
   ]
  },
  {
   "cell_type": "code",
   "execution_count": 6,
   "id": "08e597fc-4233-48eb-bff3-5e0fe7d9ea61",
   "metadata": {
    "ExecuteTime": {
     "end_time": "2022-06-29T11:38:20.002117Z",
     "start_time": "2022-06-29T11:38:19.962508Z"
    }
   },
   "outputs": [],
   "source": [
    "from scipy.signal import savgol_filter\n",
    "\n",
    "counts = df.groupby('frame_number')[['object_id']].count().reset_index()\n",
    "counts['time'] = counts['frame_number'].transform(lambda x: start_time+np.timedelta64(int(x*dt*1000),'ms'))\n",
    "counts = counts.set_index('time')\n",
    "counts['smoothed'] = savgol_filter(counts['object_id'], 60, 3) # window size 60, polynomial order 3"
   ]
  },
  {
   "cell_type": "code",
   "execution_count": 7,
   "id": "4c49cff7-9b27-4869-8a31-9a8286fd806f",
   "metadata": {
    "ExecuteTime": {
     "end_time": "2022-06-29T13:00:52.554843Z",
     "start_time": "2022-06-29T13:00:52.202602Z"
    }
   },
   "outputs": [],
   "source": [
    "\n",
    "\n",
    "fig, ax = plt.subplots(1, figsize=pu.figsizes['single'])\n",
    "counts.plot(y='object_id', color='0.3', linewidth=0.5, #linestyle='', \n",
    "            alpha=0.4,\n",
    "            marker='o', markersize=2, legend=False, ax=ax)\n",
    "counts.plot(y='smoothed', color='indianred', linewidth=1.2, label=\"smoothed 10 secs\", ax=ax)\n",
    "\n",
    "ax.set_ylabel('count')\n",
    "\n",
    "\n",
    "fig.savefig(f'counts_{source_root}.pdf', bbox_inches='tight')"
   ]
  },
  {
   "cell_type": "code",
   "execution_count": 8,
   "id": "402b2d2b",
   "metadata": {},
   "outputs": [],
   "source": [
    "unique_id = df.groupby('frame_number')[['object_id']].max().reset_index()\n",
    "unique_id['time'] = unique_id['frame_number'].transform(lambda x: start_time+np.timedelta64(int(x*dt*1000),'ms'))\n",
    "unique_id = unique_id.set_index('time')\n"
   ]
  },
  {
   "cell_type": "code",
   "execution_count": 21,
   "id": "b31c103f-1ba6-40ee-bc3a-cca7b47e95c5",
   "metadata": {},
   "outputs": [
    {
     "name": "stdout",
     "output_type": "stream",
     "text": [
      "23910.28 persons/hr\n"
     ]
    }
   ],
   "source": [
    "import scipy.stats as stats\n",
    "import datetime\n",
    "\n",
    "timestamp = unique_id.index.map(datetime.datetime.timestamp).values\n",
    "timestamp -= timestamp[0] # in seconds\n",
    "m, b, r, _,_, = stats.linregress(timestamp, unique_id.object_id)\n",
    "\n",
    "fig, ax = plt.subplots(1, figsize=pu.figsizes['single'])\n",
    "unique_id.plot(y='object_id', color='0.3', linewidth=0.5, #linestyle='', \n",
    "            alpha=0.4,\n",
    "            marker='o', markersize=2, legend=False, ax=ax)\n",
    "# unique_id.plot(y='smoothed', color='indianred', linewidth=1.2, label=\"smoothed 10 secs\", ax=ax)\n",
    "\n",
    "ax.set_ylabel('count')\n",
    "ax.text(0.95,0.1, f'$y=({m:.2f}\\\\frac{{person}}{{sec}})x+{b:.2f}$', transform=ax.transAxes,\n",
    "       verticalalignment='center', horizontalalignment='right', fontsize=10)\n",
    "\n",
    "print(f'{m*3600:.2f} persons/hr')\n",
    "fig.savefig(f'ids_{source_root}.pdf', bbox_inches='tight')"
   ]
  },
  {
   "cell_type": "code",
   "execution_count": null,
   "id": "245529be-43b6-4b6c-889c-8038131d0658",
   "metadata": {},
   "outputs": [],
   "source": []
  },
  {
   "cell_type": "code",
   "execution_count": 10,
   "id": "b9762686-b84e-4c6d-b29a-d5f8a0f023df",
   "metadata": {},
   "outputs": [],
   "source": [
    "date = datetime.date"
   ]
  },
  {
   "cell_type": "code",
   "execution_count": 11,
   "id": "e1e95e45-a069-4d26-ba45-ff3c9bcc893f",
   "metadata": {},
   "outputs": [
    {
     "data": {
      "text/plain": [
       "array([ 1.6551e+09,  1.6551e+09,  1.6551e+09, ...,  1.6551e+09,  1.6551e+09,  1.6551e+09])"
      ]
     },
     "execution_count": 11,
     "metadata": {},
     "output_type": "execute_result"
    }
   ],
   "source": [
    "unique_id.index.map(datetime.datetime.timestamp).values"
   ]
  },
  {
   "cell_type": "code",
   "execution_count": 13,
   "id": "6061667d-19be-4e40-a00f-56977f87af72",
   "metadata": {},
   "outputs": [
    {
     "data": {
      "text/plain": [
       "23910.280966017403"
      ]
     },
     "execution_count": 13,
     "metadata": {},
     "output_type": "execute_result"
    }
   ],
   "source": [
    "m*3600"
   ]
  },
  {
   "cell_type": "code",
   "execution_count": 19,
   "id": "711ec856-d105-4131-b841-6e0861a774f5",
   "metadata": {},
   "outputs": [
    {
     "data": {
      "text/plain": [
       "6043"
      ]
     },
     "execution_count": 19,
     "metadata": {},
     "output_type": "execute_result"
    }
   ],
   "source": [
    "unique_id.object_id.max()"
   ]
  },
  {
   "cell_type": "code",
   "execution_count": null,
   "id": "7a198bc7-0e94-41b9-ba61-92b983082130",
   "metadata": {},
   "outputs": [],
   "source": []
  }
 ],
 "metadata": {
  "kernelspec": {
   "display_name": "Python [conda env:yolo]",
   "language": "python",
   "name": "conda-env-yolo-py"
  },
  "language_info": {
   "codemirror_mode": {
    "name": "ipython",
    "version": 3
   },
   "file_extension": ".py",
   "mimetype": "text/x-python",
   "name": "python",
   "nbconvert_exporter": "python",
   "pygments_lexer": "ipython3",
   "version": "3.10.5"
  },
  "toc": {
   "base_numbering": 1,
   "nav_menu": {},
   "number_sections": true,
   "sideBar": true,
   "skip_h1_title": false,
   "title_cell": "Table of Contents",
   "title_sidebar": "Contents",
   "toc_cell": false,
   "toc_position": {},
   "toc_section_display": true,
   "toc_window_display": false
  }
 },
 "nbformat": 4,
 "nbformat_minor": 5
}
